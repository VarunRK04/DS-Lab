{
 "cells": [
  {
   "cell_type": "code",
   "execution_count": 1,
   "id": "04cc47c7",
   "metadata": {},
   "outputs": [],
   "source": [
    "import pandas as pd\n",
    "import numpy as np"
   ]
  },
  {
   "cell_type": "code",
   "execution_count": 2,
   "id": "fb6a4b40",
   "metadata": {},
   "outputs": [
    {
     "data": {
      "text/html": [
       "<div>\n",
       "<style scoped>\n",
       "    .dataframe tbody tr th:only-of-type {\n",
       "        vertical-align: middle;\n",
       "    }\n",
       "\n",
       "    .dataframe tbody tr th {\n",
       "        vertical-align: top;\n",
       "    }\n",
       "\n",
       "    .dataframe thead th {\n",
       "        text-align: right;\n",
       "    }\n",
       "</style>\n",
       "<table border=\"1\" class=\"dataframe\">\n",
       "  <thead>\n",
       "    <tr style=\"text-align: right;\">\n",
       "      <th></th>\n",
       "      <th>name</th>\n",
       "      <th>birthday</th>\n",
       "      <th>title</th>\n",
       "      <th>character_name</th>\n",
       "      <th>character_year</th>\n",
       "      <th>characterage</th>\n",
       "      <th>character_gender</th>\n",
       "      <th>love_interest</th>\n",
       "      <th>release_date</th>\n",
       "      <th>actor_age</th>\n",
       "    </tr>\n",
       "  </thead>\n",
       "  <tbody>\n",
       "    <tr>\n",
       "      <th>0</th>\n",
       "      <td>Ben Platt</td>\n",
       "      <td>24-09-1993</td>\n",
       "      <td>The Politician</td>\n",
       "      <td>Payton Hobart</td>\n",
       "      <td>hs senior</td>\n",
       "      <td>NaN</td>\n",
       "      <td>M</td>\n",
       "      <td>Alice Charles, Astrid Sloan, River Barkley</td>\n",
       "      <td>27-09-2019</td>\n",
       "      <td>26.0</td>\n",
       "    </tr>\n",
       "    <tr>\n",
       "      <th>1</th>\n",
       "      <td>Zoey Deutch</td>\n",
       "      <td>10-11-1994</td>\n",
       "      <td>The Politician</td>\n",
       "      <td>Infinity Jackson</td>\n",
       "      <td>hs senior</td>\n",
       "      <td>NaN</td>\n",
       "      <td>F</td>\n",
       "      <td>NaN</td>\n",
       "      <td>27-09-2019</td>\n",
       "      <td>24.0</td>\n",
       "    </tr>\n",
       "    <tr>\n",
       "      <th>2</th>\n",
       "      <td>Lucy Boynton</td>\n",
       "      <td>17-01-1994</td>\n",
       "      <td>The Politician</td>\n",
       "      <td>Astrid Sloan</td>\n",
       "      <td>hs senior</td>\n",
       "      <td>NaN</td>\n",
       "      <td>F</td>\n",
       "      <td>Payton Hobart, River Barkley</td>\n",
       "      <td>27-09-2019</td>\n",
       "      <td>25.0</td>\n",
       "    </tr>\n",
       "    <tr>\n",
       "      <th>3</th>\n",
       "      <td>Julia Schlaepfer</td>\n",
       "      <td>03-03-1995</td>\n",
       "      <td>The Politician</td>\n",
       "      <td>Alice Charles</td>\n",
       "      <td>hs senior</td>\n",
       "      <td>NaN</td>\n",
       "      <td>F</td>\n",
       "      <td>Payton Hobart, James Sullivan</td>\n",
       "      <td>27-09-2019</td>\n",
       "      <td>24.0</td>\n",
       "    </tr>\n",
       "    <tr>\n",
       "      <th>4</th>\n",
       "      <td>Laura Dreyfuss</td>\n",
       "      <td>22-08-1988</td>\n",
       "      <td>The Politician</td>\n",
       "      <td>McAfee Westbrook</td>\n",
       "      <td>hs senior</td>\n",
       "      <td>NaN</td>\n",
       "      <td>F</td>\n",
       "      <td>Skye Leighton</td>\n",
       "      <td>27-09-2019</td>\n",
       "      <td>31.0</td>\n",
       "    </tr>\n",
       "  </tbody>\n",
       "</table>\n",
       "</div>"
      ],
      "text/plain": [
       "               name    birthday           title    character_name  \\\n",
       "0         Ben Platt  24-09-1993  The Politician     Payton Hobart   \n",
       "1       Zoey Deutch  10-11-1994  The Politician  Infinity Jackson   \n",
       "2      Lucy Boynton  17-01-1994  The Politician      Astrid Sloan   \n",
       "3  Julia Schlaepfer  03-03-1995  The Politician     Alice Charles   \n",
       "4    Laura Dreyfuss  22-08-1988  The Politician  McAfee Westbrook   \n",
       "\n",
       "  character_year  characterage character_gender  \\\n",
       "0      hs senior           NaN                M   \n",
       "1      hs senior           NaN                F   \n",
       "2      hs senior           NaN                F   \n",
       "3      hs senior           NaN                F   \n",
       "4      hs senior           NaN                F   \n",
       "\n",
       "                                love_interest release_date  actor_age  \n",
       "0  Alice Charles, Astrid Sloan, River Barkley   27-09-2019       26.0  \n",
       "1                                         NaN   27-09-2019       24.0  \n",
       "2                Payton Hobart, River Barkley   27-09-2019       25.0  \n",
       "3               Payton Hobart, James Sullivan   27-09-2019       24.0  \n",
       "4                               Skye Leighton   27-09-2019       31.0  "
      ]
     },
     "execution_count": 2,
     "metadata": {},
     "output_type": "execute_result"
    }
   ],
   "source": [
    "df = pd. read_csv(r\"C:\\\\Users\\\\srmve\\\\Downloads\\\\age.csv\")\n",
    "df. head ()"
   ]
  },
  {
   "cell_type": "code",
   "execution_count": 3,
   "id": "6bf945ef",
   "metadata": {},
   "outputs": [
    {
     "name": "stdout",
     "output_type": "stream",
     "text": [
      "<class 'pandas.core.frame.DataFrame'>\n",
      "RangeIndex: 243 entries, 0 to 242\n",
      "Data columns (total 10 columns):\n",
      " #   Column            Non-Null Count  Dtype  \n",
      "---  ------            --------------  -----  \n",
      " 0   name              243 non-null    object \n",
      " 1   birthday          227 non-null    object \n",
      " 2   title             243 non-null    object \n",
      " 3   character_name    243 non-null    object \n",
      " 4   character_year    111 non-null    object \n",
      " 5   characterage      131 non-null    float64\n",
      " 6   character_gender  243 non-null    object \n",
      " 7   love_interest     132 non-null    object \n",
      " 8   release_date      243 non-null    object \n",
      " 9   actor_age         227 non-null    float64\n",
      "dtypes: float64(2), object(8)\n",
      "memory usage: 19.1+ KB\n"
     ]
    }
   ],
   "source": [
    "df.info()"
   ]
  },
  {
   "cell_type": "code",
   "execution_count": 4,
   "id": "6c0e65b2",
   "metadata": {},
   "outputs": [
    {
     "data": {
      "text/html": [
       "<div>\n",
       "<style scoped>\n",
       "    .dataframe tbody tr th:only-of-type {\n",
       "        vertical-align: middle;\n",
       "    }\n",
       "\n",
       "    .dataframe tbody tr th {\n",
       "        vertical-align: top;\n",
       "    }\n",
       "\n",
       "    .dataframe thead th {\n",
       "        text-align: right;\n",
       "    }\n",
       "</style>\n",
       "<table border=\"1\" class=\"dataframe\">\n",
       "  <thead>\n",
       "    <tr style=\"text-align: right;\">\n",
       "      <th></th>\n",
       "      <th>characterage</th>\n",
       "      <th>actor_age</th>\n",
       "    </tr>\n",
       "  </thead>\n",
       "  <tbody>\n",
       "    <tr>\n",
       "      <th>count</th>\n",
       "      <td>131.000000</td>\n",
       "      <td>227.000000</td>\n",
       "    </tr>\n",
       "    <tr>\n",
       "      <th>mean</th>\n",
       "      <td>16.580153</td>\n",
       "      <td>21.977974</td>\n",
       "    </tr>\n",
       "    <tr>\n",
       "      <th>std</th>\n",
       "      <td>1.518877</td>\n",
       "      <td>3.908743</td>\n",
       "    </tr>\n",
       "    <tr>\n",
       "      <th>min</th>\n",
       "      <td>10.000000</td>\n",
       "      <td>11.000000</td>\n",
       "    </tr>\n",
       "    <tr>\n",
       "      <th>25%</th>\n",
       "      <td>16.000000</td>\n",
       "      <td>20.000000</td>\n",
       "    </tr>\n",
       "    <tr>\n",
       "      <th>50%</th>\n",
       "      <td>17.000000</td>\n",
       "      <td>22.000000</td>\n",
       "    </tr>\n",
       "    <tr>\n",
       "      <th>75%</th>\n",
       "      <td>17.000000</td>\n",
       "      <td>24.000000</td>\n",
       "    </tr>\n",
       "    <tr>\n",
       "      <th>max</th>\n",
       "      <td>25.000000</td>\n",
       "      <td>32.000000</td>\n",
       "    </tr>\n",
       "  </tbody>\n",
       "</table>\n",
       "</div>"
      ],
      "text/plain": [
       "       characterage   actor_age\n",
       "count    131.000000  227.000000\n",
       "mean      16.580153   21.977974\n",
       "std        1.518877    3.908743\n",
       "min       10.000000   11.000000\n",
       "25%       16.000000   20.000000\n",
       "50%       17.000000   22.000000\n",
       "75%       17.000000   24.000000\n",
       "max       25.000000   32.000000"
      ]
     },
     "execution_count": 4,
     "metadata": {},
     "output_type": "execute_result"
    }
   ],
   "source": [
    "df.describe()"
   ]
  },
  {
   "cell_type": "code",
   "execution_count": 5,
   "id": "298f2e61",
   "metadata": {},
   "outputs": [
    {
     "data": {
      "text/plain": [
       "name                  0\n",
       "birthday             16\n",
       "title                 0\n",
       "character_name        0\n",
       "character_year      132\n",
       "characterage        112\n",
       "character_gender      0\n",
       "love_interest       111\n",
       "release_date          0\n",
       "actor_age            16\n",
       "dtype: int64"
      ]
     },
     "execution_count": 5,
     "metadata": {},
     "output_type": "execute_result"
    }
   ],
   "source": [
    "df.isnull().sum()"
   ]
  },
  {
   "cell_type": "code",
   "execution_count": 6,
   "id": "8c8c50f2",
   "metadata": {},
   "outputs": [
    {
     "name": "stderr",
     "output_type": "stream",
     "text": [
      "C:\\Users\\srmve\\AppData\\Local\\Temp\\ipykernel_15584\\4031491351.py:1: UserWarning: Parsing dates in %d-%m-%Y format when dayfirst=False (the default) was specified. Pass `dayfirst=True` or specify a format to silence this warning.\n",
      "  df['birthday'] = pd.to_datetime(df['birthday'])\n"
     ]
    },
    {
     "data": {
      "text/plain": [
       "0     1993-09-24\n",
       "1     1994-11-10\n",
       "2     1994-01-17\n",
       "3     1995-03-03\n",
       "4     1988-08-22\n",
       "         ...    \n",
       "238          NaT\n",
       "239   1991-10-19\n",
       "240   1994-11-09\n",
       "241   1998-04-20\n",
       "242          NaT\n",
       "Name: birthday, Length: 243, dtype: datetime64[ns]"
      ]
     },
     "execution_count": 6,
     "metadata": {},
     "output_type": "execute_result"
    }
   ],
   "source": [
    "df['birthday'] = pd.to_datetime(df['birthday'])\n",
    "df['birthday']"
   ]
  },
  {
   "cell_type": "code",
   "execution_count": 7,
   "id": "ca4f96b2",
   "metadata": {},
   "outputs": [
    {
     "data": {
      "text/plain": [
       "0      1993.0\n",
       "1      1994.0\n",
       "2      1994.0\n",
       "3      1995.0\n",
       "4      1988.0\n",
       "        ...  \n",
       "238       NaN\n",
       "239    1991.0\n",
       "240    1994.0\n",
       "241    1998.0\n",
       "242       NaN\n",
       "Name: birth_year, Length: 243, dtype: float64"
      ]
     },
     "execution_count": 7,
     "metadata": {},
     "output_type": "execute_result"
    }
   ],
   "source": [
    "df['birth_year'] = df['birthday'].dt. year\n",
    "df['birth_year']"
   ]
  },
  {
   "cell_type": "code",
   "execution_count": 8,
   "id": "b6a2fe37",
   "metadata": {},
   "outputs": [
    {
     "data": {
      "text/html": [
       "<div>\n",
       "<style scoped>\n",
       "    .dataframe tbody tr th:only-of-type {\n",
       "        vertical-align: middle;\n",
       "    }\n",
       "\n",
       "    .dataframe tbody tr th {\n",
       "        vertical-align: top;\n",
       "    }\n",
       "\n",
       "    .dataframe thead th {\n",
       "        text-align: right;\n",
       "    }\n",
       "</style>\n",
       "<table border=\"1\" class=\"dataframe\">\n",
       "  <thead>\n",
       "    <tr style=\"text-align: right;\">\n",
       "      <th></th>\n",
       "      <th>name</th>\n",
       "      <th>character_gender</th>\n",
       "      <th>actor_age</th>\n",
       "      <th>birth_year</th>\n",
       "    </tr>\n",
       "  </thead>\n",
       "  <tbody>\n",
       "    <tr>\n",
       "      <th>0</th>\n",
       "      <td>Ben Platt</td>\n",
       "      <td>M</td>\n",
       "      <td>26.0</td>\n",
       "      <td>1993.0</td>\n",
       "    </tr>\n",
       "    <tr>\n",
       "      <th>1</th>\n",
       "      <td>Zoey Deutch</td>\n",
       "      <td>F</td>\n",
       "      <td>24.0</td>\n",
       "      <td>1994.0</td>\n",
       "    </tr>\n",
       "    <tr>\n",
       "      <th>2</th>\n",
       "      <td>Lucy Boynton</td>\n",
       "      <td>F</td>\n",
       "      <td>25.0</td>\n",
       "      <td>1994.0</td>\n",
       "    </tr>\n",
       "    <tr>\n",
       "      <th>3</th>\n",
       "      <td>Julia Schlaepfer</td>\n",
       "      <td>F</td>\n",
       "      <td>24.0</td>\n",
       "      <td>1995.0</td>\n",
       "    </tr>\n",
       "    <tr>\n",
       "      <th>4</th>\n",
       "      <td>Laura Dreyfuss</td>\n",
       "      <td>F</td>\n",
       "      <td>31.0</td>\n",
       "      <td>1988.0</td>\n",
       "    </tr>\n",
       "    <tr>\n",
       "      <th>...</th>\n",
       "      <td>...</td>\n",
       "      <td>...</td>\n",
       "      <td>...</td>\n",
       "      <td>...</td>\n",
       "    </tr>\n",
       "    <tr>\n",
       "      <th>238</th>\n",
       "      <td>Thomas Mitchell Barnet</td>\n",
       "      <td>M</td>\n",
       "      <td>NaN</td>\n",
       "      <td>NaN</td>\n",
       "    </tr>\n",
       "    <tr>\n",
       "      <th>239</th>\n",
       "      <td>Kevin Alves</td>\n",
       "      <td>M</td>\n",
       "      <td>28.0</td>\n",
       "      <td>1991.0</td>\n",
       "    </tr>\n",
       "    <tr>\n",
       "      <th>240</th>\n",
       "      <td>Asha Bromfield</td>\n",
       "      <td>F</td>\n",
       "      <td>25.0</td>\n",
       "      <td>1994.0</td>\n",
       "    </tr>\n",
       "    <tr>\n",
       "      <th>241</th>\n",
       "      <td>Felix Mallard</td>\n",
       "      <td>M</td>\n",
       "      <td>21.0</td>\n",
       "      <td>1998.0</td>\n",
       "    </tr>\n",
       "    <tr>\n",
       "      <th>242</th>\n",
       "      <td>Hallea Jones</td>\n",
       "      <td>F</td>\n",
       "      <td>NaN</td>\n",
       "      <td>NaN</td>\n",
       "    </tr>\n",
       "  </tbody>\n",
       "</table>\n",
       "<p>243 rows × 4 columns</p>\n",
       "</div>"
      ],
      "text/plain": [
       "                       name character_gender  actor_age  birth_year\n",
       "0                 Ben Platt                M       26.0      1993.0\n",
       "1               Zoey Deutch                F       24.0      1994.0\n",
       "2              Lucy Boynton                F       25.0      1994.0\n",
       "3          Julia Schlaepfer                F       24.0      1995.0\n",
       "4            Laura Dreyfuss                F       31.0      1988.0\n",
       "..                      ...              ...        ...         ...\n",
       "238  Thomas Mitchell Barnet                M        NaN         NaN\n",
       "239             Kevin Alves                M       28.0      1991.0\n",
       "240          Asha Bromfield                F       25.0      1994.0\n",
       "241           Felix Mallard                M       21.0      1998.0\n",
       "242            Hallea Jones                F        NaN         NaN\n",
       "\n",
       "[243 rows x 4 columns]"
      ]
     },
     "execution_count": 8,
     "metadata": {},
     "output_type": "execute_result"
    }
   ],
   "source": [
    "df = df. drop (['birthday', 'title','character_name', 'character_year', 'characterage', 'love_interest', 'release_date'], \n",
    "axis=1)\n",
    "df\n"
   ]
  },
  {
   "cell_type": "code",
   "execution_count": 9,
   "id": "da14e439",
   "metadata": {},
   "outputs": [
    {
     "data": {
      "text/html": [
       "<div>\n",
       "<style scoped>\n",
       "    .dataframe tbody tr th:only-of-type {\n",
       "        vertical-align: middle;\n",
       "    }\n",
       "\n",
       "    .dataframe tbody tr th {\n",
       "        vertical-align: top;\n",
       "    }\n",
       "\n",
       "    .dataframe thead th {\n",
       "        text-align: right;\n",
       "    }\n",
       "</style>\n",
       "<table border=\"1\" class=\"dataframe\">\n",
       "  <thead>\n",
       "    <tr style=\"text-align: right;\">\n",
       "      <th></th>\n",
       "      <th>name</th>\n",
       "      <th>character_gender</th>\n",
       "    </tr>\n",
       "  </thead>\n",
       "  <tbody>\n",
       "    <tr>\n",
       "      <th>0</th>\n",
       "      <td>24</td>\n",
       "      <td>1</td>\n",
       "    </tr>\n",
       "    <tr>\n",
       "      <th>1</th>\n",
       "      <td>239</td>\n",
       "      <td>0</td>\n",
       "    </tr>\n",
       "    <tr>\n",
       "      <th>2</th>\n",
       "      <td>151</td>\n",
       "      <td>0</td>\n",
       "    </tr>\n",
       "    <tr>\n",
       "      <th>3</th>\n",
       "      <td>126</td>\n",
       "      <td>0</td>\n",
       "    </tr>\n",
       "    <tr>\n",
       "      <th>4</th>\n",
       "      <td>142</td>\n",
       "      <td>0</td>\n",
       "    </tr>\n",
       "    <tr>\n",
       "      <th>...</th>\n",
       "      <td>...</td>\n",
       "      <td>...</td>\n",
       "    </tr>\n",
       "    <tr>\n",
       "      <th>238</th>\n",
       "      <td>229</td>\n",
       "      <td>1</td>\n",
       "    </tr>\n",
       "    <tr>\n",
       "      <th>239</th>\n",
       "      <td>135</td>\n",
       "      <td>1</td>\n",
       "    </tr>\n",
       "    <tr>\n",
       "      <th>240</th>\n",
       "      <td>18</td>\n",
       "      <td>0</td>\n",
       "    </tr>\n",
       "    <tr>\n",
       "      <th>241</th>\n",
       "      <td>80</td>\n",
       "      <td>1</td>\n",
       "    </tr>\n",
       "    <tr>\n",
       "      <th>242</th>\n",
       "      <td>94</td>\n",
       "      <td>0</td>\n",
       "    </tr>\n",
       "  </tbody>\n",
       "</table>\n",
       "<p>243 rows × 2 columns</p>\n",
       "</div>"
      ],
      "text/plain": [
       "     name  character_gender\n",
       "0      24                 1\n",
       "1     239                 0\n",
       "2     151                 0\n",
       "3     126                 0\n",
       "4     142                 0\n",
       "..    ...               ...\n",
       "238   229                 1\n",
       "239   135                 1\n",
       "240    18                 0\n",
       "241    80                 1\n",
       "242    94                 0\n",
       "\n",
       "[243 rows x 2 columns]"
      ]
     },
     "execution_count": 9,
     "metadata": {},
     "output_type": "execute_result"
    }
   ],
   "source": [
    "from sklearn. preprocessing import LabelEncoder\n",
    "label_encoder = LabelEncoder ()\n",
    "categorical_columns = ['name', 'character_gender']\n",
    "df[categorical_columns] = df[categorical_columns]. apply(label_encoder.fit_transform)\n",
    "df[categorical_columns]"
   ]
  },
  {
   "cell_type": "code",
   "execution_count": 10,
   "id": "850b0b6c",
   "metadata": {},
   "outputs": [
    {
     "data": {
      "text/plain": [
       "name                 0\n",
       "character_gender     0\n",
       "actor_age           16\n",
       "birth_year          16\n",
       "dtype: int64"
      ]
     },
     "execution_count": 10,
     "metadata": {},
     "output_type": "execute_result"
    }
   ],
   "source": [
    "df.isnull().sum()"
   ]
  },
  {
   "cell_type": "code",
   "execution_count": 11,
   "id": "9da4cde9",
   "metadata": {},
   "outputs": [
    {
     "data": {
      "text/html": [
       "<div>\n",
       "<style scoped>\n",
       "    .dataframe tbody tr th:only-of-type {\n",
       "        vertical-align: middle;\n",
       "    }\n",
       "\n",
       "    .dataframe tbody tr th {\n",
       "        vertical-align: top;\n",
       "    }\n",
       "\n",
       "    .dataframe thead th {\n",
       "        text-align: right;\n",
       "    }\n",
       "</style>\n",
       "<table border=\"1\" class=\"dataframe\">\n",
       "  <thead>\n",
       "    <tr style=\"text-align: right;\">\n",
       "      <th></th>\n",
       "      <th>birth_year</th>\n",
       "      <th>actor_age</th>\n",
       "    </tr>\n",
       "  </thead>\n",
       "  <tbody>\n",
       "    <tr>\n",
       "      <th>0</th>\n",
       "      <td>1993.0</td>\n",
       "      <td>26.0</td>\n",
       "    </tr>\n",
       "    <tr>\n",
       "      <th>1</th>\n",
       "      <td>1994.0</td>\n",
       "      <td>24.0</td>\n",
       "    </tr>\n",
       "    <tr>\n",
       "      <th>2</th>\n",
       "      <td>1994.0</td>\n",
       "      <td>25.0</td>\n",
       "    </tr>\n",
       "    <tr>\n",
       "      <th>3</th>\n",
       "      <td>1995.0</td>\n",
       "      <td>24.0</td>\n",
       "    </tr>\n",
       "    <tr>\n",
       "      <th>4</th>\n",
       "      <td>1988.0</td>\n",
       "      <td>31.0</td>\n",
       "    </tr>\n",
       "    <tr>\n",
       "      <th>...</th>\n",
       "      <td>...</td>\n",
       "      <td>...</td>\n",
       "    </tr>\n",
       "    <tr>\n",
       "      <th>238</th>\n",
       "      <td>1996.0</td>\n",
       "      <td>22.0</td>\n",
       "    </tr>\n",
       "    <tr>\n",
       "      <th>239</th>\n",
       "      <td>1991.0</td>\n",
       "      <td>28.0</td>\n",
       "    </tr>\n",
       "    <tr>\n",
       "      <th>240</th>\n",
       "      <td>1994.0</td>\n",
       "      <td>25.0</td>\n",
       "    </tr>\n",
       "    <tr>\n",
       "      <th>241</th>\n",
       "      <td>1998.0</td>\n",
       "      <td>21.0</td>\n",
       "    </tr>\n",
       "    <tr>\n",
       "      <th>242</th>\n",
       "      <td>1996.0</td>\n",
       "      <td>22.0</td>\n",
       "    </tr>\n",
       "  </tbody>\n",
       "</table>\n",
       "<p>243 rows × 2 columns</p>\n",
       "</div>"
      ],
      "text/plain": [
       "     birth_year  actor_age\n",
       "0        1993.0       26.0\n",
       "1        1994.0       24.0\n",
       "2        1994.0       25.0\n",
       "3        1995.0       24.0\n",
       "4        1988.0       31.0\n",
       "..          ...        ...\n",
       "238      1996.0       22.0\n",
       "239      1991.0       28.0\n",
       "240      1994.0       25.0\n",
       "241      1998.0       21.0\n",
       "242      1996.0       22.0\n",
       "\n",
       "[243 rows x 2 columns]"
      ]
     },
     "execution_count": 11,
     "metadata": {},
     "output_type": "execute_result"
    }
   ],
   "source": [
    "from sklearn. impute import SimpleImputer\n",
    "numeric_columns = ['birth_year','actor_age']\n",
    "df[numeric_columns] = SimpleImputer(strategy='most_frequent'). fit_transform(df[numeric_columns])\n",
    "df[numeric_columns]"
   ]
  },
  {
   "cell_type": "code",
   "execution_count": 12,
   "id": "d0705891",
   "metadata": {},
   "outputs": [
    {
     "data": {
      "text/html": [
       "<div>\n",
       "<style scoped>\n",
       "    .dataframe tbody tr th:only-of-type {\n",
       "        vertical-align: middle;\n",
       "    }\n",
       "\n",
       "    .dataframe tbody tr th {\n",
       "        vertical-align: top;\n",
       "    }\n",
       "\n",
       "    .dataframe thead th {\n",
       "        text-align: right;\n",
       "    }\n",
       "</style>\n",
       "<table border=\"1\" class=\"dataframe\">\n",
       "  <thead>\n",
       "    <tr style=\"text-align: right;\">\n",
       "      <th></th>\n",
       "      <th>name</th>\n",
       "      <th>character_gender</th>\n",
       "      <th>birth_year</th>\n",
       "    </tr>\n",
       "  </thead>\n",
       "  <tbody>\n",
       "    <tr>\n",
       "      <th>0</th>\n",
       "      <td>24</td>\n",
       "      <td>1</td>\n",
       "      <td>1993.0</td>\n",
       "    </tr>\n",
       "    <tr>\n",
       "      <th>1</th>\n",
       "      <td>239</td>\n",
       "      <td>0</td>\n",
       "      <td>1994.0</td>\n",
       "    </tr>\n",
       "    <tr>\n",
       "      <th>2</th>\n",
       "      <td>151</td>\n",
       "      <td>0</td>\n",
       "      <td>1994.0</td>\n",
       "    </tr>\n",
       "    <tr>\n",
       "      <th>3</th>\n",
       "      <td>126</td>\n",
       "      <td>0</td>\n",
       "      <td>1995.0</td>\n",
       "    </tr>\n",
       "    <tr>\n",
       "      <th>4</th>\n",
       "      <td>142</td>\n",
       "      <td>0</td>\n",
       "      <td>1988.0</td>\n",
       "    </tr>\n",
       "    <tr>\n",
       "      <th>...</th>\n",
       "      <td>...</td>\n",
       "      <td>...</td>\n",
       "      <td>...</td>\n",
       "    </tr>\n",
       "    <tr>\n",
       "      <th>238</th>\n",
       "      <td>229</td>\n",
       "      <td>1</td>\n",
       "      <td>1996.0</td>\n",
       "    </tr>\n",
       "    <tr>\n",
       "      <th>239</th>\n",
       "      <td>135</td>\n",
       "      <td>1</td>\n",
       "      <td>1991.0</td>\n",
       "    </tr>\n",
       "    <tr>\n",
       "      <th>240</th>\n",
       "      <td>18</td>\n",
       "      <td>0</td>\n",
       "      <td>1994.0</td>\n",
       "    </tr>\n",
       "    <tr>\n",
       "      <th>241</th>\n",
       "      <td>80</td>\n",
       "      <td>1</td>\n",
       "      <td>1998.0</td>\n",
       "    </tr>\n",
       "    <tr>\n",
       "      <th>242</th>\n",
       "      <td>94</td>\n",
       "      <td>0</td>\n",
       "      <td>1996.0</td>\n",
       "    </tr>\n",
       "  </tbody>\n",
       "</table>\n",
       "<p>243 rows × 3 columns</p>\n",
       "</div>"
      ],
      "text/plain": [
       "     name  character_gender  birth_year\n",
       "0      24                 1      1993.0\n",
       "1     239                 0      1994.0\n",
       "2     151                 0      1994.0\n",
       "3     126                 0      1995.0\n",
       "4     142                 0      1988.0\n",
       "..    ...               ...         ...\n",
       "238   229                 1      1996.0\n",
       "239   135                 1      1991.0\n",
       "240    18                 0      1994.0\n",
       "241    80                 1      1998.0\n",
       "242    94                 0      1996.0\n",
       "\n",
       "[243 rows x 3 columns]"
      ]
     },
     "execution_count": 12,
     "metadata": {},
     "output_type": "execute_result"
    }
   ],
   "source": [
    "x = df[['name', 'character_gender', 'birth_year']]\n",
    "x"
   ]
  },
  {
   "cell_type": "code",
   "execution_count": 13,
   "id": "8b420609",
   "metadata": {},
   "outputs": [
    {
     "data": {
      "text/plain": [
       "0      26.0\n",
       "1      24.0\n",
       "2      25.0\n",
       "3      24.0\n",
       "4      31.0\n",
       "       ... \n",
       "238    22.0\n",
       "239    28.0\n",
       "240    25.0\n",
       "241    21.0\n",
       "242    22.0\n",
       "Name: actor_age, Length: 243, dtype: float64"
      ]
     },
     "execution_count": 13,
     "metadata": {},
     "output_type": "execute_result"
    }
   ],
   "source": [
    "y = df['actor_age']\n",
    "y"
   ]
  },
  {
   "cell_type": "code",
   "execution_count": 14,
   "id": "883bb3e0",
   "metadata": {},
   "outputs": [
    {
     "data": {
      "text/html": [
       "<style>#sk-container-id-1 {color: black;}#sk-container-id-1 pre{padding: 0;}#sk-container-id-1 div.sk-toggleable {background-color: white;}#sk-container-id-1 label.sk-toggleable__label {cursor: pointer;display: block;width: 100%;margin-bottom: 0;padding: 0.3em;box-sizing: border-box;text-align: center;}#sk-container-id-1 label.sk-toggleable__label-arrow:before {content: \"▸\";float: left;margin-right: 0.25em;color: #696969;}#sk-container-id-1 label.sk-toggleable__label-arrow:hover:before {color: black;}#sk-container-id-1 div.sk-estimator:hover label.sk-toggleable__label-arrow:before {color: black;}#sk-container-id-1 div.sk-toggleable__content {max-height: 0;max-width: 0;overflow: hidden;text-align: left;background-color: #f0f8ff;}#sk-container-id-1 div.sk-toggleable__content pre {margin: 0.2em;color: black;border-radius: 0.25em;background-color: #f0f8ff;}#sk-container-id-1 input.sk-toggleable__control:checked~div.sk-toggleable__content {max-height: 200px;max-width: 100%;overflow: auto;}#sk-container-id-1 input.sk-toggleable__control:checked~label.sk-toggleable__label-arrow:before {content: \"▾\";}#sk-container-id-1 div.sk-estimator input.sk-toggleable__control:checked~label.sk-toggleable__label {background-color: #d4ebff;}#sk-container-id-1 div.sk-label input.sk-toggleable__control:checked~label.sk-toggleable__label {background-color: #d4ebff;}#sk-container-id-1 input.sk-hidden--visually {border: 0;clip: rect(1px 1px 1px 1px);clip: rect(1px, 1px, 1px, 1px);height: 1px;margin: -1px;overflow: hidden;padding: 0;position: absolute;width: 1px;}#sk-container-id-1 div.sk-estimator {font-family: monospace;background-color: #f0f8ff;border: 1px dotted black;border-radius: 0.25em;box-sizing: border-box;margin-bottom: 0.5em;}#sk-container-id-1 div.sk-estimator:hover {background-color: #d4ebff;}#sk-container-id-1 div.sk-parallel-item::after {content: \"\";width: 100%;border-bottom: 1px solid gray;flex-grow: 1;}#sk-container-id-1 div.sk-label:hover label.sk-toggleable__label {background-color: #d4ebff;}#sk-container-id-1 div.sk-serial::before {content: \"\";position: absolute;border-left: 1px solid gray;box-sizing: border-box;top: 0;bottom: 0;left: 50%;z-index: 0;}#sk-container-id-1 div.sk-serial {display: flex;flex-direction: column;align-items: center;background-color: white;padding-right: 0.2em;padding-left: 0.2em;position: relative;}#sk-container-id-1 div.sk-item {position: relative;z-index: 1;}#sk-container-id-1 div.sk-parallel {display: flex;align-items: stretch;justify-content: center;background-color: white;position: relative;}#sk-container-id-1 div.sk-item::before, #sk-container-id-1 div.sk-parallel-item::before {content: \"\";position: absolute;border-left: 1px solid gray;box-sizing: border-box;top: 0;bottom: 0;left: 50%;z-index: -1;}#sk-container-id-1 div.sk-parallel-item {display: flex;flex-direction: column;z-index: 1;position: relative;background-color: white;}#sk-container-id-1 div.sk-parallel-item:first-child::after {align-self: flex-end;width: 50%;}#sk-container-id-1 div.sk-parallel-item:last-child::after {align-self: flex-start;width: 50%;}#sk-container-id-1 div.sk-parallel-item:only-child::after {width: 0;}#sk-container-id-1 div.sk-dashed-wrapped {border: 1px dashed gray;margin: 0 0.4em 0.5em 0.4em;box-sizing: border-box;padding-bottom: 0.4em;background-color: white;}#sk-container-id-1 div.sk-label label {font-family: monospace;font-weight: bold;display: inline-block;line-height: 1.2em;}#sk-container-id-1 div.sk-label-container {text-align: center;}#sk-container-id-1 div.sk-container {/* jupyter's `normalize.less` sets `[hidden] { display: none; }` but bootstrap.min.css set `[hidden] { display: none !important; }` so we also need the `!important` here to be able to override the default hidden behavior on the sphinx rendered scikit-learn.org. See: https://github.com/scikit-learn/scikit-learn/issues/21755 */display: inline-block !important;position: relative;}#sk-container-id-1 div.sk-text-repr-fallback {display: none;}</style><div id=\"sk-container-id-1\" class=\"sk-top-container\"><div class=\"sk-text-repr-fallback\"><pre>LinearRegression()</pre><b>In a Jupyter environment, please rerun this cell to show the HTML representation or trust the notebook. <br />On GitHub, the HTML representation is unable to render, please try loading this page with nbviewer.org.</b></div><div class=\"sk-container\" hidden><div class=\"sk-item\"><div class=\"sk-estimator sk-toggleable\"><input class=\"sk-toggleable__control sk-hidden--visually\" id=\"sk-estimator-id-1\" type=\"checkbox\" checked><label for=\"sk-estimator-id-1\" class=\"sk-toggleable__label sk-toggleable__label-arrow\">LinearRegression</label><div class=\"sk-toggleable__content\"><pre>LinearRegression()</pre></div></div></div></div></div>"
      ],
      "text/plain": [
       "LinearRegression()"
      ]
     },
     "execution_count": 14,
     "metadata": {},
     "output_type": "execute_result"
    }
   ],
   "source": [
    "from sklearn. model_selection import train_test_split\n",
    "x_train, x_test, y_train, y_test = train_test_split (x, y, test_size=0.2, random_state=42)\n",
    "# Intialize the Linear Regression model\n",
    "from sklearn. linear_model import LinearRegression\n",
    "model = LinearRegression ()\n",
    "48\n",
    "# Train the Linear Regression model\n",
    "model.fit (x_train, y_train)"
   ]
  },
  {
   "cell_type": "code",
   "execution_count": 15,
   "id": "49f47db7",
   "metadata": {},
   "outputs": [
    {
     "data": {
      "text/plain": [
       "array([20.09904337, 23.90720926, 20.81859233, 17.27447575, 20.69497398,\n",
       "       19.17478424, 20.17372696, 19.32125732, 26.15894389, 20.06672071,\n",
       "       23.63164979, 26.99190733, 23.06216532, 20.95792124, 21.86855069,\n",
       "       20.60029112, 21.8311261 , 26.20693847, 19.70247812, 20.88760364,\n",
       "       21.86063193, 21.31628731, 21.96911008, 20.55001143, 19.37308618,\n",
       "       20.47177507, 28.29322551, 20.24192505, 20.99893724, 20.76190441,\n",
       "       21.17414158, 20.93918962, 20.9083775 , 22.36906249, 21.07435678,\n",
       "       21.26959902, 23.92308542, 20.81785638, 23.86149981, 21.93115378,\n",
       "       22.94291295, 20.06312931, 20.71599071, 21.13390016, 20.34685042,\n",
       "       22.32955702, 20.15422076, 20.61032939, 21.4240295 ])"
      ]
     },
     "execution_count": 15,
     "metadata": {},
     "output_type": "execute_result"
    }
   ],
   "source": [
    "y_pred = model. predict(x_test)\n",
    "y_pred"
   ]
  },
  {
   "cell_type": "code",
   "execution_count": 16,
   "id": "bb269746",
   "metadata": {},
   "outputs": [
    {
     "name": "stdout",
     "output_type": "stream",
     "text": [
      "Mean Squared Error: 9.760123797821025\n"
     ]
    }
   ],
   "source": [
    "from sklearn. metrics import mean_squared_error\n",
    "mse = mean_squared_error (y_test, y_pred)\n",
    "print (f\"Mean Squared Error: {mse}\")"
   ]
  },
  {
   "cell_type": "code",
   "execution_count": 17,
   "id": "ad15241f",
   "metadata": {},
   "outputs": [
    {
     "name": "stdout",
     "output_type": "stream",
     "text": [
      "Predicted Actor Age: 21.007426345958265\n"
     ]
    }
   ],
   "source": [
    "new_data = pd. DataFrame ({\"name\": [142], \"character_gender\": [1], \"birth_year\": [1996.0]})\n",
    "predicted_age = model. predict(new_data)\n",
    "print (f\"Predicted Actor Age: {predicted_age [0]}\")"
   ]
  },
  {
   "cell_type": "code",
   "execution_count": null,
   "id": "893a9cba",
   "metadata": {},
   "outputs": [],
   "source": []
  }
 ],
 "metadata": {
  "kernelspec": {
   "display_name": "Python 3 (ipykernel)",
   "language": "python",
   "name": "python3"
  },
  "language_info": {
   "codemirror_mode": {
    "name": "ipython",
    "version": 3
   },
   "file_extension": ".py",
   "mimetype": "text/x-python",
   "name": "python",
   "nbconvert_exporter": "python",
   "pygments_lexer": "ipython3",
   "version": "3.11.5"
  }
 },
 "nbformat": 4,
 "nbformat_minor": 5
}
